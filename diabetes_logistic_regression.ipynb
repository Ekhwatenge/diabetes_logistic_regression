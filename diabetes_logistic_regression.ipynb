{
 "cells": [
  {
   "cell_type": "code",
   "execution_count": 2,
   "id": "4fae4632-9592-4f94-b2fe-58dbcbe33ec4",
   "metadata": {},
   "outputs": [],
   "source": [
    "# Importing necessary libraries\n",
    "import pandas as pd  # pandas is used for data manipulation and analysis\n",
    "import numpy as np   # numpy is used for numerical computations\n",
    "from sklearn.model_selection import train_test_split  # For splitting data into training and testing sets\n",
    "from sklearn.preprocessing import StandardScaler     # For scaling numerical features\n",
    "from sklearn.linear_model import LogisticRegression  # Logistic Regression model for classification\n",
    "from sklearn.metrics import accuracy_score, classification_report, confusion_matrix # To evaluate the model\n",
    "import matplotlib.pyplot as plt # For creating visualizations\n",
    "import seaborn as sns           # For making statistical graphics\n",
    "\n",
    "# Load the dataset\n",
    "try:\n",
    "    data = pd.read_csv('diabetes_dataset.csv')\n",
    "except FileNotFoundError:\n",
    "    print(\"Error: diabetes_dataset.csv not found.  Make sure the file is in the same directory as your notebook, or provide the correct path.\")\n",
    "    exit()\n",
    "except Exception as e:\n",
    "    print(f\"An error occurred while loading the dataset: {e}\")\n",
    "    exit()"
   ]
  },
  {
   "cell_type": "code",
   "execution_count": 3,
   "id": "a112f18e-37fc-437d-a576-62a867597605",
   "metadata": {},
   "outputs": [
    {
     "name": "stdout",
     "output_type": "stream",
     "text": [
      "First 5 rows of the dataset:\n",
      "   Age  Pregnancies    BMI  Glucose  BloodPressure  HbA1c    LDL   HDL  \\\n",
      "0   69            5  28.39    130.1           77.0    5.4  130.4  44.0   \n",
      "1   32            1  26.49    116.5           72.0    4.5   87.4  54.2   \n",
      "2   89           13  25.34    101.0           82.0    4.9  112.5  56.8   \n",
      "3   78           13  29.91    146.0          104.0    5.7   50.7  39.1   \n",
      "4   38            8  24.56    103.2           74.0    4.7  102.5  29.1   \n",
      "\n",
      "   Triglycerides  WaistCircumference  HipCircumference   WHR  FamilyHistory  \\\n",
      "0           50.0                90.5             107.9  0.84              0   \n",
      "1          129.9               113.3              81.4  1.39              0   \n",
      "2          177.6                84.7             107.2  0.79              0   \n",
      "3          117.0               108.9             110.0  0.99              0   \n",
      "4          145.9                84.1              92.8  0.91              0   \n",
      "\n",
      "   DietType  Hypertension  MedicationUse  Outcome  \n",
      "0         0             0              1        0  \n",
      "1         0             0              0        0  \n",
      "2         0             0              1        0  \n",
      "3         0             0              1        1  \n",
      "4         1             0              0        0  \n",
      "\n",
      "Summary statistics of the dataset:\n",
      "               Age  Pregnancies          BMI      Glucose  BloodPressure  \\\n",
      "count  9538.000000  9538.000000  9538.000000  9538.000000    9538.000000   \n",
      "mean     53.577584     7.986161    27.052364   106.104183      84.475781   \n",
      "std      20.764651     4.933469     5.927955    21.918590      14.123480   \n",
      "min      18.000000     0.000000    15.000000    50.000000      60.000000   \n",
      "25%      36.000000     4.000000    22.870000    91.000000      74.000000   \n",
      "50%      53.000000     8.000000    27.050000   106.000000      84.000000   \n",
      "75%      72.000000    12.000000    31.180000   121.000000      94.000000   \n",
      "max      89.000000    16.000000    49.660000   207.200000     138.000000   \n",
      "\n",
      "             HbA1c          LDL          HDL  Triglycerides  \\\n",
      "count  9538.000000  9538.000000  9538.000000    9538.000000   \n",
      "mean      4.650661   100.133456    49.953418     151.147746   \n",
      "std       0.476395    29.911910    15.242194      48.951627   \n",
      "min       4.000000   -12.000000    -9.200000      50.000000   \n",
      "25%       4.300000    80.100000    39.700000     117.200000   \n",
      "50%       4.600000    99.900000    50.200000     150.550000   \n",
      "75%       5.000000   120.200000    60.200000     185.100000   \n",
      "max       6.900000   202.200000   107.800000     345.800000   \n",
      "\n",
      "       WaistCircumference  HipCircumference          WHR  FamilyHistory  \\\n",
      "count         9538.000000       9538.000000  9538.000000    9538.000000   \n",
      "mean            93.951678        103.060621     0.917400       0.302474   \n",
      "std             15.594468         13.438827     0.140828       0.459354   \n",
      "min             40.300000         54.800000     0.420000       0.000000   \n",
      "25%             83.400000         94.000000     0.820000       0.000000   \n",
      "50%             93.800000        103.200000     0.910000       0.000000   \n",
      "75%            104.600000        112.100000     1.010000       1.000000   \n",
      "max            163.000000        156.600000     1.490000       1.000000   \n",
      "\n",
      "          DietType  Hypertension  MedicationUse      Outcome  \n",
      "count  9538.000000   9538.000000    9538.000000  9538.000000  \n",
      "mean      0.486161      0.001048       0.405012     0.344097  \n",
      "std       0.661139      0.032364       0.490920     0.475098  \n",
      "min       0.000000      0.000000       0.000000     0.000000  \n",
      "25%       0.000000      0.000000       0.000000     0.000000  \n",
      "50%       0.000000      0.000000       0.000000     0.000000  \n",
      "75%       1.000000      0.000000       1.000000     1.000000  \n",
      "max       2.000000      1.000000       1.000000     1.000000  \n",
      "\n",
      "Missing values in the dataset:\n",
      "Age                   0\n",
      "Pregnancies           0\n",
      "BMI                   0\n",
      "Glucose               0\n",
      "BloodPressure         0\n",
      "HbA1c                 0\n",
      "LDL                   0\n",
      "HDL                   0\n",
      "Triglycerides         0\n",
      "WaistCircumference    0\n",
      "HipCircumference      0\n",
      "WHR                   0\n",
      "FamilyHistory         0\n",
      "DietType              0\n",
      "Hypertension          0\n",
      "MedicationUse         0\n",
      "Outcome               0\n",
      "dtype: int64\n"
     ]
    },
    {
     "data": {
      "text/html": [
       "<style>#sk-container-id-1 {color: black;background-color: white;}#sk-container-id-1 pre{padding: 0;}#sk-container-id-1 div.sk-toggleable {background-color: white;}#sk-container-id-1 label.sk-toggleable__label {cursor: pointer;display: block;width: 100%;margin-bottom: 0;padding: 0.3em;box-sizing: border-box;text-align: center;}#sk-container-id-1 label.sk-toggleable__label-arrow:before {content: \"▸\";float: left;margin-right: 0.25em;color: #696969;}#sk-container-id-1 label.sk-toggleable__label-arrow:hover:before {color: black;}#sk-container-id-1 div.sk-estimator:hover label.sk-toggleable__label-arrow:before {color: black;}#sk-container-id-1 div.sk-toggleable__content {max-height: 0;max-width: 0;overflow: hidden;text-align: left;background-color: #f0f8ff;}#sk-container-id-1 div.sk-toggleable__content pre {margin: 0.2em;color: black;border-radius: 0.25em;background-color: #f0f8ff;}#sk-container-id-1 input.sk-toggleable__control:checked~div.sk-toggleable__content {max-height: 200px;max-width: 100%;overflow: auto;}#sk-container-id-1 input.sk-toggleable__control:checked~label.sk-toggleable__label-arrow:before {content: \"▾\";}#sk-container-id-1 div.sk-estimator input.sk-toggleable__control:checked~label.sk-toggleable__label {background-color: #d4ebff;}#sk-container-id-1 div.sk-label input.sk-toggleable__control:checked~label.sk-toggleable__label {background-color: #d4ebff;}#sk-container-id-1 input.sk-hidden--visually {border: 0;clip: rect(1px 1px 1px 1px);clip: rect(1px, 1px, 1px, 1px);height: 1px;margin: -1px;overflow: hidden;padding: 0;position: absolute;width: 1px;}#sk-container-id-1 div.sk-estimator {font-family: monospace;background-color: #f0f8ff;border: 1px dotted black;border-radius: 0.25em;box-sizing: border-box;margin-bottom: 0.5em;}#sk-container-id-1 div.sk-estimator:hover {background-color: #d4ebff;}#sk-container-id-1 div.sk-parallel-item::after {content: \"\";width: 100%;border-bottom: 1px solid gray;flex-grow: 1;}#sk-container-id-1 div.sk-label:hover label.sk-toggleable__label {background-color: #d4ebff;}#sk-container-id-1 div.sk-serial::before {content: \"\";position: absolute;border-left: 1px solid gray;box-sizing: border-box;top: 0;bottom: 0;left: 50%;z-index: 0;}#sk-container-id-1 div.sk-serial {display: flex;flex-direction: column;align-items: center;background-color: white;padding-right: 0.2em;padding-left: 0.2em;position: relative;}#sk-container-id-1 div.sk-item {position: relative;z-index: 1;}#sk-container-id-1 div.sk-parallel {display: flex;align-items: stretch;justify-content: center;background-color: white;position: relative;}#sk-container-id-1 div.sk-item::before, #sk-container-id-1 div.sk-parallel-item::before {content: \"\";position: absolute;border-left: 1px solid gray;box-sizing: border-box;top: 0;bottom: 0;left: 50%;z-index: -1;}#sk-container-id-1 div.sk-parallel-item {display: flex;flex-direction: column;z-index: 1;position: relative;background-color: white;}#sk-container-id-1 div.sk-parallel-item:first-child::after {align-self: flex-end;width: 50%;}#sk-container-id-1 div.sk-parallel-item:last-child::after {align-self: flex-start;width: 50%;}#sk-container-id-1 div.sk-parallel-item:only-child::after {width: 0;}#sk-container-id-1 div.sk-dashed-wrapped {border: 1px dashed gray;margin: 0 0.4em 0.5em 0.4em;box-sizing: border-box;padding-bottom: 0.4em;background-color: white;}#sk-container-id-1 div.sk-label label {font-family: monospace;font-weight: bold;display: inline-block;line-height: 1.2em;}#sk-container-id-1 div.sk-label-container {text-align: center;}#sk-container-id-1 div.sk-container {/* jupyter's `normalize.less` sets `[hidden] { display: none; }` but bootstrap.min.css set `[hidden] { display: none !important; }` so we also need the `!important` here to be able to override the default hidden behavior on the sphinx rendered scikit-learn.org. See: https://github.com/scikit-learn/scikit-learn/issues/21755 */display: inline-block !important;position: relative;}#sk-container-id-1 div.sk-text-repr-fallback {display: none;}</style><div id=\"sk-container-id-1\" class=\"sk-top-container\"><div class=\"sk-text-repr-fallback\"><pre>LogisticRegression(random_state=42)</pre><b>In a Jupyter environment, please rerun this cell to show the HTML representation or trust the notebook. <br />On GitHub, the HTML representation is unable to render, please try loading this page with nbviewer.org.</b></div><div class=\"sk-container\" hidden><div class=\"sk-item\"><div class=\"sk-estimator sk-toggleable\"><input class=\"sk-toggleable__control sk-hidden--visually\" id=\"sk-estimator-id-1\" type=\"checkbox\" checked><label for=\"sk-estimator-id-1\" class=\"sk-toggleable__label sk-toggleable__label-arrow\">LogisticRegression</label><div class=\"sk-toggleable__content\"><pre>LogisticRegression(random_state=42)</pre></div></div></div></div></div>"
      ],
      "text/plain": [
       "LogisticRegression(random_state=42)"
      ]
     },
     "execution_count": 3,
     "metadata": {},
     "output_type": "execute_result"
    }
   ],
   "source": [
    "# Display the first few rows of the dataframe to understand its structure\n",
    "print(\"First 5 rows of the dataset:\")\n",
    "print(data.head())\n",
    "\n",
    "# Summary statistics of the dataset\n",
    "print(\"\\nSummary statistics of the dataset:\")\n",
    "print(data.describe())\n",
    "\n",
    "# Check for missing values\n",
    "print(\"\\nMissing values in the dataset:\")\n",
    "print(data.isnull().sum())\n",
    "\n",
    "# Data Cleaning (if needed - handling outliers or incorrect data types)\n",
    "# For simplicity, we'll skip complex cleaning for now, but in a real project, this is crucial\n",
    "\n",
    "# Feature Engineering (creating new features if needed)\n",
    "# For this example, we will skip feature engineering\n",
    "\n",
    "# Select features (X) and target variable (y)\n",
    "# 'Outcome' is our target variable - whether or not someone has diabetes\n",
    "X = data.drop('Outcome', axis=1)  # Features: all columns except 'Outcome'\n",
    "y = data['Outcome']               # Target: 'Outcome' column\n",
    "\n",
    "# Split data into training and testing sets\n",
    "# We'll use 80% of the data for training and 20% for testing\n",
    "X_train, X_test, y_train, y_test = train_test_split(X, y, test_size=0.2, random_state=42)\n",
    "\n",
    "# Feature scaling using StandardScaler\n",
    "# StandardScaler scales features to have mean=0 and variance=1\n",
    "scaler = StandardScaler()\n",
    "X_train = scaler.fit_transform(X_train) # Fit on training data and transform\n",
    "X_test = scaler.transform(X_test)       # Transform test data using the fitted scaler\n",
    "\n",
    "# Initialize and train the Logistic Regression model\n",
    "# Logistic Regression is a linear model used for binary classification\n",
    "model = LogisticRegression(random_state=42) #initialize the model\n",
    "model.fit(X_train, y_train) # Train the model using training data\n",
    "\n",
    "\n"
   ]
  },
  {
   "cell_type": "code",
   "execution_count": 4,
   "id": "0057f5d4-0593-4349-a368-fcab94b3fda3",
   "metadata": {},
   "outputs": [
    {
     "name": "stdout",
     "output_type": "stream",
     "text": [
      "\n",
      "Model Evaluation:\n",
      "Accuracy: 0.9931865828092243\n",
      "\n",
      "Classification Report:\n",
      "              precision    recall  f1-score   support\n",
      "\n",
      "           0       0.99      1.00      0.99      1275\n",
      "           1       1.00      0.98      0.99       633\n",
      "\n",
      "    accuracy                           0.99      1908\n",
      "   macro avg       0.99      0.99      0.99      1908\n",
      "weighted avg       0.99      0.99      0.99      1908\n",
      "\n",
      "\n",
      "Confusion Matrix:\n",
      "[[1274    1]\n",
      " [  12  621]]\n"
     ]
    },
    {
     "data": {
      "image/png": "[encoded data removed]",
      "text/plain": [
       "<Figure size 640x480 with 2 Axes>"
      ]
     },
     "metadata": {},
     "output_type": "display_data"
    }
   ],
   "source": [
    "# Make predictions on the test set\n",
    "y_pred = model.predict(X_test)\n",
    "\n",
    "# Evaluate the model\n",
    "print(\"\\nModel Evaluation:\")\n",
    "print(\"Accuracy:\", accuracy_score(y_test, y_pred)) # Overall accuracy of the model\n",
    "\n",
    "# Detailed classification report\n",
    "print(\"\\nClassification Report:\")\n",
    "print(classification_report(y_test, y_pred))\n",
    "\n",
    "# Confusion matrix to visualize True Positives, True Negatives, False Positives, and False Negatives\n",
    "print(\"\\nConfusion Matrix:\")\n",
    "print(confusion_matrix(y_test, y_pred))\n",
    "\n",
    "# Optional: Visualize the Confusion Matrix using Seaborn\n",
    "conf_matrix = confusion_matrix(y_test, y_pred)\n",
    "sns.heatmap(conf_matrix, annot=True, fmt='d', cmap='Blues')\n",
    "plt.title('Confusion Matrix')\n",
    "plt.xlabel('Predicted')\n",
    "plt.ylabel('Actual')\n",
    "plt.show()\n"
   ]
  },
  {
   "cell_type": "code",
   "execution_count": 5,
   "id": "8bea4914-f06e-4d98-96ae-bb605af0624b",
   "metadata": {},
   "outputs": [
    {
     "name": "stdout",
     "output_type": "stream",
     "text": [
      "\n",
      "Prediction for a new patient: 0\n",
      "The model predicts this patient does not have diabetes.\n"
     ]
    },
    {
     "name": "stderr",
     "output_type": "stream",
     "text": [
      "C:\\Users\\elvir\\anaconda3\\Lib\\site-packages\\sklearn\\base.py:439: UserWarning: X does not have valid feature names, but StandardScaler was fitted with feature names\n",
      "  warnings.warn(\n"
     ]
    }
   ],
   "source": [
    "# Example of predicting for a new patient\n",
    "# The values should be preprocessed (scaled) in the same way as the training data\n",
    "new_patient_data = np.array([60, 5, 30.0, 120.0, 80.0, 5.0, 100.0, 50.0, 150.0, 90.0, 100.0, 0.9, 0, 1, 0, 0]).reshape(1, -1)\n",
    "new_patient_data_scaled = scaler.transform(new_patient_data)\n",
    "prediction = model.predict(new_patient_data_scaled)\n",
    "\n",
    "print(\"\\nPrediction for a new patient:\", prediction[0])\n",
    "if prediction[0] == 1:\n",
    "    print(\"The model predicts this patient has diabetes.\")\n",
    "else:\n",
    "    print(\"The model predicts this patient does not have diabetes.\")"
   ]
  },
  {
   "cell_type": "code",
   "execution_count": null,
   "id": "1fe05701-b810-48e3-8d68-17a7807a6b22",
   "metadata": {},
   "outputs": [],
   "source": []
  }
 ],
 "metadata": {
  "kernelspec": {
   "display_name": "Python 3 (ipykernel)",
   "language": "python",
   "name": "python3"
  },
  "language_info": {
   "codemirror_mode": {
    "name": "ipython",
    "version": 3
   },
   "file_extension": ".py",
   "mimetype": "text/x-python",
   "name": "python",
   "nbconvert_exporter": "python",
   "pygments_lexer": "ipython3",
   "version": "3.11.7"
  }
 },
 "nbformat": 4,
 "nbformat_minor": 5
}
